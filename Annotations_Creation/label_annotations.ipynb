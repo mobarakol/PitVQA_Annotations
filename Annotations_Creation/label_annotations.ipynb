{
  "nbformat": 4,
  "nbformat_minor": 0,
  "metadata": {
    "colab": {
      "provenance": [],
      "authorship_tag": "ABX9TyPjL/7GJ+8kb2TGpCW2HqUn",
      "include_colab_link": true
    },
    "kernelspec": {
      "name": "python3",
      "display_name": "Python 3"
    },
    "language_info": {
      "name": "python"
    }
  },
  "cells": [
    {
      "cell_type": "markdown",
      "metadata": {
        "id": "view-in-github",
        "colab_type": "text"
      },
      "source": [
        "<a href=\"https://colab.research.google.com/github/mobarakol/PitVQA_Annotations/blob/main/Annotations_Creation/label_annotations.ipynb\" target=\"_parent\"><img src=\"https://colab.research.google.com/assets/colab-badge.svg\" alt=\"Open In Colab\"/></a>"
      ]
    },
    {
      "cell_type": "markdown",
      "source": [
        "This part is to transfer video to images"
      ],
      "metadata": {
        "id": "pWxNjPm5phus"
      }
    },
    {
      "cell_type": "code",
      "execution_count": null,
      "metadata": {
        "id": "nYSCIuZkpegy"
      },
      "outputs": [],
      "source": [
        "# global imports\n",
        "import cv2\n",
        "import numpy as np\n",
        "import os\n",
        "\n",
        "# strong typing\n",
        "from pathlib import Path\n",
        "from typing import List\n",
        "from time import time\n",
        "\n",
        "'''\n",
        "Before run this code, your folder system should look like this:\n",
        "project-name/\n",
        "├── videos/\n",
        "│   ├── video_01.mp4\n",
        "│   └── video_02.mp4\n",
        "│   └── ...\n",
        "│   └── video_25.mp4\n",
        "├── images/\n",
        "├── video_to_images.py\n",
        "note: 'images' is an empty folder before running this code.\n",
        "'''\n",
        "\n",
        "\n",
        "def main():\n",
        "    \"\"\"required variables are {pt_videos} and {pt_images}\"\"\"\n",
        "    st = time()\n",
        "    pt_videos = Path(\"videos\")\n",
        "    pt_images = Path(\"images\")\n",
        "    convert_videos_to_images(pt_videos=pt_videos, pt_images=pt_images)\n",
        "    et = time()\n",
        "    print(f'time used: {et-st}')\n",
        "\n",
        "\n",
        "def convert_videos_to_images(pt_videos: Path, pt_images: Path):\n",
        "    \"\"\"convert all videos from {pt_videos} to images saved to {pt_images}\"\"\"\n",
        "    create_directory(pt=pt_images)\n",
        "\n",
        "    ls_videos: List[str] = os.listdir(pt_videos)\n",
        "    ls_videos.sort()\n",
        "\n",
        "    for str_video in ls_videos:\n",
        "        pt_video: Path = pt_videos.joinpath(str_video)\n",
        "        pt_image: Path = pt_images.joinpath(str_video.split(\".\")[0])\n",
        "\n",
        "        create_directory(pt=pt_image)\n",
        "        convert_video_to_image(pt_video=pt_video, pt_image=pt_image)\n",
        "        print(f'{str_video} finished.')\n",
        "\n",
        "\n",
        "def convert_video_to_image(pt_video: Path, pt_image: Path):\n",
        "    \"\"\"convert a single video from {pt_video} to images saved to {pt_image}\"\"\"\n",
        "    video_capture = cv2.VideoCapture(str(pt_video))\n",
        "    int_frames_per_second: int = np.ceil(video_capture.get(cv2.CAP_PROP_FPS))  # ceiling function to ensure integer\n",
        "\n",
        "    int_frame: int = 0\n",
        "    while video_capture.isOpened():\n",
        "        bool_success, np_frame_matrix = video_capture.read()\n",
        "        if bool_success:\n",
        "            if int_frame % int_frames_per_second == 0:\n",
        "                pt_image_frame: Path = pt_image.joinpath(f\"{int(int_frame / int_frames_per_second):05}.png\")\n",
        "                cv2.imwrite(str(pt_image_frame), np_frame_matrix)\n",
        "                print(\"written\")\n",
        "        else:\n",
        "            break\n",
        "        int_frame += 1\n",
        "\n",
        "    video_capture.release()\n",
        "\n",
        "    print(f\"{pt_video} successfully converted to {int_frame} images.\")\n",
        "\n",
        "\n",
        "def create_directory(pt: Path):\n",
        "    \"\"\"create a directory for a given {path} if it does not already exist\"\"\"\n",
        "    if not os.path.exists(pt):\n",
        "        os.mkdir(pt)\n",
        "\n",
        "\n",
        "main()\n"
      ]
    },
    {
      "cell_type": "markdown",
      "source": [
        "This part is to process the images"
      ],
      "metadata": {
        "id": "Z6xCZvBcpwxI"
      }
    },
    {
      "cell_type": "code",
      "source": [
        "import os\n",
        "import glob\n",
        "from PIL import Image, ImageOps\n",
        "from pathlib import Path\n",
        "\n",
        "'''\n",
        "Before run this code, your folder system should look like this:\n",
        "project-name/\n",
        "├── images/\n",
        "│   ├── video_01/\n",
        "│   └── video_02/\n",
        "│   └── ...\n",
        "│   └── video_25/\n",
        "├── preprocessed_images/\n",
        "├── preprocess_images.py\n",
        "note: 'preprocessed_images' is an empty folder before running this code.\n",
        "'''\n",
        "\n",
        "if __name__ == '__main__':\n",
        "\n",
        "    images_path = Path('./images')\n",
        "    output_path = Path('./preprocessed_images')\n",
        "    #video_sequence = [f\"video_{i:02}\" for i in range(1, 26)]'\n",
        "    video_sequence = [f\"video_{i:03}\" for i in [18, 19, 33, 35]]\n",
        "\n",
        "\n",
        "    for seq in video_sequence:\n",
        "        folder_path = images_path / seq\n",
        "        images = folder_path.glob('*.png')\n",
        "\n",
        "        # create a new folder (e.g. video_01/) in the 'preprocessed_images' folder\n",
        "        new_folder = output_path / seq\n",
        "        new_folder.mkdir(parents=True, exist_ok=True)\n",
        "\n",
        "        for img in images:\n",
        "            image = Image.open(img)\n",
        "\n",
        "            # process images\n",
        "            crop_box = (295, 50, 935, 690)\n",
        "            cropped_image = image.crop(crop_box)  # crop images\n",
        "            resized_image = cropped_image.resize((224, 224), Image.BICUBIC)  # resize images\n",
        "\n",
        "            # save processed images\n",
        "            save_path = new_folder / img.name\n",
        "            resized_image.save(save_path)\n",
        "        print(seq + ' done.')\n"
      ],
      "metadata": {
        "colab": {
          "base_uri": "https://localhost:8080/"
        },
        "id": "0L0tJtrlp4qt",
        "outputId": "4a810fe6-0607-49f2-913b-e42e83fe66f5"
      },
      "execution_count": 1,
      "outputs": [
        {
          "output_type": "stream",
          "name": "stdout",
          "text": [
            "video_018 done.\n",
            "video_019 done.\n",
            "video_033 done.\n",
            "video_035 done.\n"
          ]
        }
      ]
    }
  ]
}